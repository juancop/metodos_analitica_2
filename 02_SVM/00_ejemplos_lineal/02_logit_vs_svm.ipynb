{
  "nbformat": 4,
  "nbformat_minor": 0,
  "metadata": {
    "colab": {
      "provenance": []
    },
    "kernelspec": {
      "name": "python3",
      "display_name": "Python 3"
    },
    "language_info": {
      "name": "python"
    }
  },
  "cells": [
    {
      "cell_type": "markdown",
      "source": [
        "# SVM vs Logistic Regression\n",
        "\n",
        "En este Notebook se observarán las diferencias entre el SVM y la regresión logística.\n",
        "\n",
        "\n",
        "<table class=\"tfo-notebook-buttons\" align=\"center\">\n",
        "\n",
        "  <td>\n",
        "    <a target=\"_blank\" href=\"https://colab.research.google.com/github/juancop/metodos_analitica_2/blob/main/02_SVM/00_ejemplos_lineal/02_logit_vs_svm.ipynb\"><img src=\"https://colab.research.google.com/assets/colab-badge.svg\" /></a>\n",
        "  </td>\n",
        "  <td>\n",
        "    <a target=\"_blank\" href=\"https://github.com/juancop/metodos_analitica_2/blob/dev/01_optimization/02_SVM/00_ejemplos_lineal/02_logit_vs_svm.ipynb\"><img src=\"https://www.tensorflow.org/images/GitHub-Mark-32px.png\" /></a>\n",
        "  </td>\n",
        "  \n",
        "</table>"
      ],
      "metadata": {
        "id": "LqW0Hiy9E0aM"
      }
    },
    {
      "cell_type": "code",
      "execution_count": null,
      "metadata": {
        "id": "3n5iYlFRCikH"
      },
      "outputs": [],
      "source": [
        "# Librerías a Utilizar\n",
        "import numpy as np\n",
        "from sklearn import linear_model, svm\n",
        "import matplotlib.pyplot as plt\n",
        "from sklearn.utils import shuffle\n",
        "import imageio\n",
        "import os"
      ]
    },
    {
      "cell_type": "code",
      "source": [
        "# Simulación de Datos\n",
        "np.random.seed(0)\n",
        "X = np.r_[np.random.randn(200, 2) - [2, 2], np.random.randn(200, 2) + [2, 2]]\n",
        "Y = [0] * 200 + [1] * 200\n",
        "\n"
      ],
      "metadata": {
        "id": "DsGSmQByLUpW"
      },
      "execution_count": null,
      "outputs": []
    },
    {
      "cell_type": "code",
      "source": [
        "\n",
        "# Datos Simulados\n",
        "plt.scatter(X[:, 0], X[:, 1], c=Y, edgecolors='k', cmap=plt.cm.Paired)\n",
        "plt.show()\n"
      ],
      "metadata": {
        "id": "FgpgRpX8S7Os"
      },
      "execution_count": null,
      "outputs": []
    },
    {
      "cell_type": "markdown",
      "source": [
        "## Parte 1: Ajuste de Modelos"
      ],
      "metadata": {
        "id": "pYDIBLf4TFpF"
      }
    },
    {
      "cell_type": "code",
      "source": [
        "# Ajuste Regresión Logística\n",
        "logreg = linear_model.LogisticRegression(penalty = None)\n",
        "logreg.fit(X, Y)\n"
      ],
      "metadata": {
        "id": "KgcY_ho3LWc_"
      },
      "execution_count": null,
      "outputs": []
    },
    {
      "cell_type": "code",
      "source": [
        "\n",
        "# Ajuste SVM\n",
        "svc = svm.SVC(kernel='linear')\n",
        "svc.fit(X, Y)\n"
      ],
      "metadata": {
        "id": "FBBMTgdWLXSJ"
      },
      "execution_count": null,
      "outputs": []
    },
    {
      "cell_type": "code",
      "source": [
        "\n",
        "# Fronteras de Decisión\n",
        "plt.scatter(X[:, 0], X[:, 1], c=Y, edgecolors='k', cmap=plt.cm.Paired)\n",
        "\n",
        "# Logit\n",
        "ax = plt.gca()\n",
        "xlim = ax.get_xlim()\n",
        "ylim = ax.get_ylim()\n",
        "xx = np.linspace(xlim[0], xlim[1], 30)\n",
        "yy = np.linspace(ylim[0], ylim[1], 30)\n",
        "YY, XX = np.meshgrid(yy, xx)\n",
        "xy = np.vstack([XX.ravel(), YY.ravel()]).T\n",
        "Z = logreg.decision_function(xy).reshape(XX.shape)\n",
        "ax.contour(XX, YY, Z, colors='r', levels=[0], alpha=0.5, linestyles=['-'])\n",
        "\n",
        "# SVM\n",
        "Z = svc.decision_function(xy).reshape(XX.shape)\n",
        "ax.contour(XX, YY, Z, colors='b', levels=[-1, 0, 1], alpha=0.5, linestyles=['--', '-', '--'])\n",
        "\n",
        "# Vector de Soporte\n",
        "ax.scatter(svc.support_vectors_[:, 0], svc.support_vectors_[:, 1], s=100, facecolors='none', edgecolors='k')\n",
        "\n",
        "plt.show()\n"
      ],
      "metadata": {
        "id": "9SPakv9ALYcj"
      },
      "execution_count": null,
      "outputs": []
    },
    {
      "cell_type": "markdown",
      "source": [
        "## Parte 2: Muestreo Aleatorio (sin reemplazamiento)"
      ],
      "metadata": {
        "id": "KfwEYcFlMWne"
      }
    },
    {
      "cell_type": "code",
      "source": [
        "# Si el directorio 'fit_folder' no existe, lo creamos\n",
        "fit_folder = 'fit_folder'\n",
        "os.makedirs(fit_folder, exist_ok=True)\n",
        "\n",
        "# Número de muestras\n",
        "num_samples = len(X) // 5\n",
        "\n",
        "# Modelos a usar\n",
        "logreg = linear_model.LogisticRegression(penalty=None)\n",
        "svc = svm.SVC(kernel='linear', C = 1) # Cambiar por 0.1 para ver\n",
        "\n",
        "for i in range(100):\n",
        "    # Barajamos los datos\n",
        "    X, Y = shuffle(X, Y)\n",
        "\n",
        "    # Tomamos una muestra de los datos\n",
        "    X_sample, Y_sample = X[:num_samples], Y[:num_samples]\n",
        "\n",
        "    # Entrenamos los modelos\n",
        "    logreg.fit(X_sample, Y_sample)\n",
        "    svc.fit(X_sample, Y_sample)\n",
        "\n",
        "    # Visualización de Datos\n",
        "    plt.scatter(X_sample[:, 0], X_sample[:, 1], c=Y_sample, edgecolors='k', cmap=plt.cm.Paired)\n",
        "    plt.xlim((-4, 4))\n",
        "    plt.ylim((-4, 4))\n",
        "    plt.xticks(np.arange(-4, 5, step=1)) # marcas en el eje x\n",
        "    plt.yticks(np.arange(-4, 5, step=1)) # marcas en el eje y\n",
        "\n",
        "    ax = plt.gca()\n",
        "    xlim, ylim = ax.get_xlim(), ax.get_ylim()\n",
        "    xx, yy = np.linspace(xlim[0], xlim[1], 30), np.linspace(ylim[0], ylim[1], 30)\n",
        "    YY, XX = np.meshgrid(yy, xx)\n",
        "    xy = np.vstack([XX.ravel(), YY.ravel()]).T\n",
        "\n",
        "    # Frontera de Decisión de Regresión Logística\n",
        "    Z = logreg.decision_function(xy).reshape(XX.shape)\n",
        "    ax.contour(XX, YY, Z, colors='r', levels=[0], alpha=0.5, linestyles=['-'])\n",
        "\n",
        "    # Frontera de Decisión de SVM\n",
        "    Z = svc.decision_function(xy).reshape(XX.shape)\n",
        "    ax.contour(XX, YY, Z, colors='b', levels=[-1, 0, 1], alpha=0.5, linestyles=['--', '-', '--'])\n",
        "\n",
        "    # Resaltamos los vectores de soporte\n",
        "    ax.scatter(svc.support_vectors_[:, 0], svc.support_vectors_[:, 1], s=100, facecolors='none', edgecolors='k')\n",
        "\n",
        "    # Guardamos la gráfica\n",
        "    plt.savefig(f'{fit_folder}/plot_{i}.png')\n",
        "    plt.close()\n"
      ],
      "metadata": {
        "id": "qomSmZEbCjNo"
      },
      "execution_count": null,
      "outputs": []
    },
    {
      "cell_type": "markdown",
      "source": [
        "## ¡Un GIF!"
      ],
      "metadata": {
        "id": "IO22JQQPTuOD"
      }
    },
    {
      "cell_type": "code",
      "source": [
        "# Create a list of filenames\n",
        "filenames = [f'fit_folder/plot_{i}.png' for i in range(100)]\n",
        "\n",
        "# Create a list of images\n",
        "images = []\n",
        "for filename in filenames:\n",
        "    images.append(imageio.imread(filename))\n",
        "\n",
        "\n",
        "imageio.mimsave('movie.gif', images, duration=0.5)\n",
        "os.system(\"rm fit_folder/*\")"
      ],
      "metadata": {
        "id": "Uw1IZYJIDsLZ"
      },
      "execution_count": null,
      "outputs": []
    },
    {
      "cell_type": "code",
      "source": [],
      "metadata": {
        "id": "YYiTYZgqD20W"
      },
      "execution_count": null,
      "outputs": []
    }
  ]
}